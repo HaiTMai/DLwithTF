{
 "cells": [
  {
   "cell_type": "code",
   "execution_count": 1,
   "metadata": {},
   "outputs": [],
   "source": [
    "%matplotlib inline\n",
    "import warnings\n",
    "warnings.filterwarnings('ignore')\n",
    "\n",
    "import numpy as np\n",
    "import matplotlib.pyplot as plt\n",
    "\n",
    "import tensorflow as tf"
   ]
  },
  {
   "cell_type": "code",
   "execution_count": 2,
   "metadata": {},
   "outputs": [
    {
     "name": "stdout",
     "output_type": "stream",
     "text": [
      "Successfully downloaded train-images-idx3-ubyte.gz 9912422 bytes.\n",
      "Extracting ./train-images-idx3-ubyte.gz\n",
      "Successfully downloaded train-labels-idx1-ubyte.gz 28881 bytes.\n",
      "Extracting ./train-labels-idx1-ubyte.gz\n",
      "Successfully downloaded t10k-images-idx3-ubyte.gz 1648877 bytes.\n",
      "Extracting ./t10k-images-idx3-ubyte.gz\n",
      "Successfully downloaded t10k-labels-idx1-ubyte.gz 4542 bytes.\n",
      "Extracting ./t10k-labels-idx1-ubyte.gz\n"
     ]
    }
   ],
   "source": [
    "from tensorflow.examples.tutorials.mnist import input_data\n",
    "mnist = input_data.read_data_sets(\".\", one_hot=True)"
   ]
  },
  {
   "cell_type": "code",
   "execution_count": 3,
   "metadata": {},
   "outputs": [
    {
     "name": "stdout",
     "output_type": "stream",
     "text": [
      "Train Images:  (55000, 784)\n",
      "Train Labels   (55000, 10)\n",
      "\n",
      "Test Images:   (10000, 784)\n",
      "Test Labels:   (10000, 10)\n"
     ]
    }
   ],
   "source": [
    "trainimgs = mnist.train.images\n",
    "trainlabels = mnist.train.labels\n",
    "testimgs = mnist.test.images\n",
    "testlabels = mnist.test.labels \n",
    "\n",
    "ntrain = trainimgs.shape[0]\n",
    "ntest = testimgs.shape[0]\n",
    "dim = trainimgs.shape[1]\n",
    "nclasses = trainlabels.shape[1]\n",
    "print \"Train Images: \", trainimgs.shape\n",
    "print \"Train Labels  \", trainlabels.shape\n",
    "print\n",
    "print \"Test Images:  \" , testimgs.shape\n",
    "print \"Test Labels:  \", testlabels.shape"
   ]
  },
  {
   "cell_type": "code",
   "execution_count": 4,
   "metadata": {},
   "outputs": [
    {
     "data": {
      "image/png": "[encoded data removed]",
      "text/plain": [
       "<matplotlib.figure.Figure at 0x7f16063425d0>"
      ]
     },
     "metadata": {},
     "output_type": "display_data"
    },
    {
     "name": "stdout",
     "output_type": "stream",
     "text": [
      "Sample: 100 - Class: [6] - Label Vector: [ 0.  0.  0.  0.  0.  0.  1.  0.  0.  0.] \n",
      "Sample: 101 - Class: [0] - Label Vector: [ 1.  0.  0.  0.  0.  0.  0.  0.  0.  0.] \n",
      "Sample: 102 - Class: [5] - Label Vector: [ 0.  0.  0.  0.  0.  1.  0.  0.  0.  0.] \n"
     ]
    }
   ],
   "source": [
    "samplesIdx = [100, 101, 102]  #<-- You can change these numbers here to see other samples\n",
    "\n",
    "from mpl_toolkits.mplot3d import Axes3D\n",
    "fig = plt.figure()\n",
    "\n",
    "ax1 = fig.add_subplot(121)\n",
    "ax1.imshow(testimgs[samplesIdx[0]].reshape([28,28]), cmap='gray')\n",
    "\n",
    "\n",
    "xx, yy = np.meshgrid(np.linspace(0,28,28), np.linspace(0,28,28))\n",
    "X =  xx ; Y =  yy\n",
    "Z =  100*np.ones(X.shape)\n",
    "\n",
    "img = testimgs[77].reshape([28,28])\n",
    "ax = fig.add_subplot(122, projection='3d')\n",
    "ax.set_zlim((0,200))\n",
    "\n",
    "\n",
    "offset=200\n",
    "for i in samplesIdx:\n",
    "    img = testimgs[i].reshape([28,28]).transpose()\n",
    "    ax.contourf(X, Y, img, 200, zdir='z', offset=offset, cmap=\"gray\")\n",
    "    offset -= 100\n",
    "\n",
    "    ax.set_xticks([])\n",
    "ax.set_yticks([])\n",
    "ax.set_zticks([])\n",
    "\n",
    "plt.show()\n",
    "\n",
    "\n",
    "for i in samplesIdx:\n",
    "    print \"Sample: {0} - Class: {1} - Label Vector: {2} \".format(i, np.nonzero(testlabels[i])[0], testlabels[i])"
   ]
  },
  {
   "cell_type": "code",
   "execution_count": 5,
   "metadata": {},
   "outputs": [],
   "source": [
    "n_input = 28\n",
    "n_steps = 28\n",
    "n_hidden = 128\n",
    "n_classes = 10\n",
    "\n",
    "\n",
    "learning_rate = 0.001\n",
    "training_iters = 100000\n",
    "batch_size = 100\n",
    "display_step = 10"
   ]
  },
  {
   "cell_type": "code",
   "execution_count": 6,
   "metadata": {},
   "outputs": [],
   "source": [
    "x = tf.placeholder(tf.float32, shape=[None, n_steps, n_input], name=\"x\")\n",
    "y = tf.placeholder(tf.float32, shape=[None, n_classes], name=\"y\")"
   ]
  },
  {
   "cell_type": "code",
   "execution_count": 7,
   "metadata": {},
   "outputs": [],
   "source": [
    "weights = {'out': tf.Variable(tf.random_normal([n_hidden, n_classes]))}\n",
    "biases = {'out': tf.Variable(tf.random_normal([n_classes]))}"
   ]
  },
  {
   "cell_type": "code",
   "execution_count": 8,
   "metadata": {},
   "outputs": [],
   "source": [
    "lstm_cell = tf.contrib.rnn.BasicLSTMCell(n_hidden, forget_bias=1.0)"
   ]
  },
  {
   "cell_type": "code",
   "execution_count": 9,
   "metadata": {},
   "outputs": [],
   "source": [
    "outputs, states = tf.nn.dynamic_rnn(lstm_cell, inputs= x, dtype= tf.float32)"
   ]
  },
  {
   "cell_type": "code",
   "execution_count": 11,
   "metadata": {},
   "outputs": [],
   "source": [
    "output = tf.reshape(tf.split(outputs, 28, axis=1, num=None, name='split')[-1], [-1,128])\n",
    "pred = tf.matmul(output, weights['out']) + biases['out']"
   ]
  },
  {
   "cell_type": "code",
   "execution_count": 12,
   "metadata": {},
   "outputs": [
    {
     "data": {
      "text/plain": [
       "<tf.Tensor 'add:0' shape=(?, 10) dtype=float32>"
      ]
     },
     "execution_count": 12,
     "metadata": {},
     "output_type": "execute_result"
    }
   ],
   "source": [
    "pred"
   ]
  },
  {
   "cell_type": "code",
   "execution_count": 13,
   "metadata": {},
   "outputs": [],
   "source": [
    "cost = tf.reduce_mean(tf.nn.softmax_cross_entropy_with_logits(labels=y, logits=pred))\n",
    "optimizer = tf.train.AdamOptimizer(learning_rate= learning_rate).minimize(cost)"
   ]
  },
  {
   "cell_type": "code",
   "execution_count": 16,
   "metadata": {},
   "outputs": [],
   "source": [
    "correct_pred = tf.equal(tf.argmax(y, 1), tf.argmax(pred, 1))\n",
    "accuracy = tf.reduce_mean(tf.cast(correct_pred, tf.float32))"
   ]
  },
  {
   "cell_type": "code",
   "execution_count": 17,
   "metadata": {},
   "outputs": [
    {
     "name": "stdout",
     "output_type": "stream",
     "text": [
      "Iter 1000, Minibatch Loss= 1.918817, Training Accuracy= 0.31000\n",
      "Iter 2000, Minibatch Loss= 1.574195, Training Accuracy= 0.52000\n",
      "Iter 3000, Minibatch Loss= 1.291865, Training Accuracy= 0.54000\n",
      "Iter 4000, Minibatch Loss= 1.025985, Training Accuracy= 0.68000\n",
      "Iter 5000, Minibatch Loss= 1.189038, Training Accuracy= 0.65000\n",
      "Iter 6000, Minibatch Loss= 0.674470, Training Accuracy= 0.78000\n",
      "Iter 7000, Minibatch Loss= 0.905020, Training Accuracy= 0.70000\n",
      "Iter 8000, Minibatch Loss= 0.578795, Training Accuracy= 0.83000\n",
      "Iter 9000, Minibatch Loss= 0.487790, Training Accuracy= 0.86000\n",
      "Iter 10000, Minibatch Loss= 0.508951, Training Accuracy= 0.81000\n",
      "Iter 11000, Minibatch Loss= 0.332028, Training Accuracy= 0.88000\n",
      "Iter 12000, Minibatch Loss= 0.351810, Training Accuracy= 0.88000\n",
      "Iter 13000, Minibatch Loss= 0.326459, Training Accuracy= 0.88000\n",
      "Iter 14000, Minibatch Loss= 0.346899, Training Accuracy= 0.87000\n",
      "Iter 15000, Minibatch Loss= 0.308595, Training Accuracy= 0.88000\n",
      "Iter 16000, Minibatch Loss= 0.404230, Training Accuracy= 0.90000\n",
      "Iter 17000, Minibatch Loss= 0.298931, Training Accuracy= 0.89000\n",
      "Iter 18000, Minibatch Loss= 0.254331, Training Accuracy= 0.90000\n",
      "Iter 19000, Minibatch Loss= 0.379534, Training Accuracy= 0.88000\n",
      "Iter 20000, Minibatch Loss= 0.284331, Training Accuracy= 0.91000\n",
      "Iter 21000, Minibatch Loss= 0.385304, Training Accuracy= 0.91000\n",
      "Iter 22000, Minibatch Loss= 0.173317, Training Accuracy= 0.95000\n",
      "Iter 23000, Minibatch Loss= 0.299454, Training Accuracy= 0.89000\n",
      "Iter 24000, Minibatch Loss= 0.175454, Training Accuracy= 0.94000\n",
      "Iter 25000, Minibatch Loss= 0.454824, Training Accuracy= 0.89000\n",
      "Iter 26000, Minibatch Loss= 0.233192, Training Accuracy= 0.93000\n",
      "Iter 27000, Minibatch Loss= 0.218771, Training Accuracy= 0.92000\n",
      "Iter 28000, Minibatch Loss= 0.287581, Training Accuracy= 0.93000\n",
      "Iter 29000, Minibatch Loss= 0.199908, Training Accuracy= 0.93000\n",
      "Iter 30000, Minibatch Loss= 0.192981, Training Accuracy= 0.92000\n",
      "Iter 31000, Minibatch Loss= 0.223907, Training Accuracy= 0.94000\n",
      "Iter 32000, Minibatch Loss= 0.212678, Training Accuracy= 0.95000\n",
      "Iter 33000, Minibatch Loss= 0.240043, Training Accuracy= 0.94000\n",
      "Iter 34000, Minibatch Loss= 0.266063, Training Accuracy= 0.92000\n",
      "Iter 35000, Minibatch Loss= 0.375552, Training Accuracy= 0.91000\n",
      "Iter 36000, Minibatch Loss= 0.075723, Training Accuracy= 1.00000\n",
      "Iter 37000, Minibatch Loss= 0.187563, Training Accuracy= 0.92000\n",
      "Iter 38000, Minibatch Loss= 0.114271, Training Accuracy= 0.96000\n",
      "Iter 39000, Minibatch Loss= 0.157994, Training Accuracy= 0.93000\n",
      "Iter 40000, Minibatch Loss= 0.236076, Training Accuracy= 0.93000\n",
      "Iter 41000, Minibatch Loss= 0.142390, Training Accuracy= 0.95000\n",
      "Iter 42000, Minibatch Loss= 0.104088, Training Accuracy= 0.96000\n",
      "Iter 43000, Minibatch Loss= 0.122655, Training Accuracy= 0.95000\n",
      "Iter 44000, Minibatch Loss= 0.177897, Training Accuracy= 0.96000\n",
      "Iter 45000, Minibatch Loss= 0.129107, Training Accuracy= 0.97000\n",
      "Iter 46000, Minibatch Loss= 0.091638, Training Accuracy= 0.97000\n",
      "Iter 47000, Minibatch Loss= 0.116896, Training Accuracy= 0.96000\n",
      "Iter 48000, Minibatch Loss= 0.310155, Training Accuracy= 0.92000\n",
      "Iter 49000, Minibatch Loss= 0.139295, Training Accuracy= 0.96000\n",
      "Iter 50000, Minibatch Loss= 0.102463, Training Accuracy= 0.97000\n",
      "Iter 51000, Minibatch Loss= 0.194996, Training Accuracy= 0.93000\n",
      "Iter 52000, Minibatch Loss= 0.111921, Training Accuracy= 0.96000\n",
      "Iter 53000, Minibatch Loss= 0.110614, Training Accuracy= 0.98000\n",
      "Iter 54000, Minibatch Loss= 0.088884, Training Accuracy= 0.96000\n",
      "Iter 55000, Minibatch Loss= 0.062964, Training Accuracy= 0.97000\n",
      "Iter 56000, Minibatch Loss= 0.091594, Training Accuracy= 0.98000\n",
      "Iter 57000, Minibatch Loss= 0.091037, Training Accuracy= 0.96000\n",
      "Iter 58000, Minibatch Loss= 0.111096, Training Accuracy= 0.96000\n",
      "Iter 59000, Minibatch Loss= 0.173051, Training Accuracy= 0.93000\n",
      "Iter 60000, Minibatch Loss= 0.102404, Training Accuracy= 0.96000\n",
      "Iter 61000, Minibatch Loss= 0.139114, Training Accuracy= 0.96000\n",
      "Iter 62000, Minibatch Loss= 0.065784, Training Accuracy= 0.98000\n",
      "Iter 63000, Minibatch Loss= 0.181418, Training Accuracy= 0.92000\n",
      "Iter 64000, Minibatch Loss= 0.074410, Training Accuracy= 0.98000\n",
      "Iter 65000, Minibatch Loss= 0.085385, Training Accuracy= 0.97000\n",
      "Iter 66000, Minibatch Loss= 0.084434, Training Accuracy= 0.97000\n",
      "Iter 67000, Minibatch Loss= 0.146686, Training Accuracy= 0.97000\n",
      "Iter 68000, Minibatch Loss= 0.096685, Training Accuracy= 0.95000\n",
      "Iter 69000, Minibatch Loss= 0.073416, Training Accuracy= 0.97000\n",
      "Iter 70000, Minibatch Loss= 0.108489, Training Accuracy= 0.96000\n",
      "Iter 71000, Minibatch Loss= 0.114415, Training Accuracy= 0.96000\n",
      "Iter 72000, Minibatch Loss= 0.068424, Training Accuracy= 0.98000\n",
      "Iter 73000, Minibatch Loss= 0.025168, Training Accuracy= 1.00000\n",
      "Iter 74000, Minibatch Loss= 0.026625, Training Accuracy= 1.00000\n",
      "Iter 75000, Minibatch Loss= 0.087828, Training Accuracy= 0.98000\n",
      "Iter 76000, Minibatch Loss= 0.134415, Training Accuracy= 0.96000\n",
      "Iter 77000, Minibatch Loss= 0.096460, Training Accuracy= 0.95000\n",
      "Iter 78000, Minibatch Loss= 0.059337, Training Accuracy= 0.99000\n",
      "Iter 79000, Minibatch Loss= 0.097764, Training Accuracy= 0.96000\n",
      "Iter 80000, Minibatch Loss= 0.111484, Training Accuracy= 0.95000\n",
      "Iter 81000, Minibatch Loss= 0.066603, Training Accuracy= 0.99000\n",
      "Iter 82000, Minibatch Loss= 0.074587, Training Accuracy= 0.98000\n",
      "Iter 83000, Minibatch Loss= 0.079299, Training Accuracy= 0.98000\n",
      "Iter 84000, Minibatch Loss= 0.158598, Training Accuracy= 0.95000\n",
      "Iter 85000, Minibatch Loss= 0.084886, Training Accuracy= 0.97000\n",
      "Iter 86000, Minibatch Loss= 0.123582, Training Accuracy= 0.97000\n",
      "Iter 87000, Minibatch Loss= 0.089355, Training Accuracy= 0.97000\n",
      "Iter 88000, Minibatch Loss= 0.044649, Training Accuracy= 0.98000\n",
      "Iter 89000, Minibatch Loss= 0.081951, Training Accuracy= 0.97000\n",
      "Iter 90000, Minibatch Loss= 0.150164, Training Accuracy= 0.94000\n",
      "Iter 91000, Minibatch Loss= 0.064015, Training Accuracy= 0.98000\n",
      "Iter 92000, Minibatch Loss= 0.050241, Training Accuracy= 0.99000\n",
      "Iter 93000, Minibatch Loss= 0.086841, Training Accuracy= 0.97000\n",
      "Iter 94000, Minibatch Loss= 0.154724, Training Accuracy= 0.96000\n",
      "Iter 95000, Minibatch Loss= 0.080618, Training Accuracy= 0.98000\n",
      "Iter 96000, Minibatch Loss= 0.163013, Training Accuracy= 0.92000\n",
      "Iter 97000, Minibatch Loss= 0.054833, Training Accuracy= 0.99000\n",
      "Iter 98000, Minibatch Loss= 0.075843, Training Accuracy= 0.98000\n",
      "Iter 99000, Minibatch Loss= 0.100481, Training Accuracy= 0.97000\n",
      "Optimization Finished!\n",
      "('Testing Accuracy:', 1.0)\n"
     ]
    }
   ],
   "source": [
    "init = tf.global_variables_initializer()\n",
    "\n",
    "with tf.Session() as sess:\n",
    "    sess.run(init)\n",
    "    step = 1\n",
    "    while step * batch_size < training_iters:\n",
    "        batch_x, batch_y = mnist.train.next_batch(batch_size)\n",
    "        batch_x = batch_x.reshape(batch_size, n_steps, n_input)\n",
    "        \n",
    "        sess.run(optimizer, feed_dict={x: batch_x, y: batch_y})\n",
    "        \n",
    "        if step % display_step == 0:\n",
    "            acc = sess.run(accuracy, feed_dict={x: batch_x, y: batch_y})\n",
    "            loss = sess.run(cost, feed_dict={x: batch_x, y: batch_y})\n",
    "            print(\"Iter \" + str(step*batch_size) + \", Minibatch Loss= \" + \\\n",
    "                \"{:.6f}\".format(loss) + \", Training Accuracy= \" + \\\n",
    "                \"{:.5f}\".format(acc))\n",
    "        step += 1\n",
    "    print(\"Optimization Finished!\")\n",
    "    \n",
    "    test_len = 128\n",
    "    test_data = mnist.test.images[:test_len].reshape((-1, n_steps, n_input))\n",
    "    test_label = mnist.test.labels[:test_len]\n",
    "    print(\"Testing Accuracy:\", \\\n",
    "        sess.run(accuracy, feed_dict={x: test_data, y: test_label}))"
   ]
  },
  {
   "cell_type": "code",
   "execution_count": 18,
   "metadata": {},
   "outputs": [],
   "source": [
    "sess.close()"
   ]
  },
  {
   "cell_type": "code",
   "execution_count": null,
   "metadata": {},
   "outputs": [],
   "source": []
  }
 ],
 "metadata": {
  "kernelspec": {
   "display_name": "Python 2",
   "language": "python",
   "name": "python2"
  },
  "language_info": {
   "codemirror_mode": {
    "name": "ipython",
    "version": 2
   },
   "file_extension": ".py",
   "mimetype": "text/x-python",
   "name": "python",
   "nbconvert_exporter": "python",
   "pygments_lexer": "ipython2",
   "version": "2.7.12"
  }
 },
 "nbformat": 4,
 "nbformat_minor": 2
}
