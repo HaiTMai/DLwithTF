{
 "cells": [
  {
   "cell_type": "markdown",
   "metadata": {},
   "source": [
    "## MNIST Classification with a simple ANN"
   ]
  },
  {
   "cell_type": "code",
   "execution_count": 1,
   "metadata": {},
   "outputs": [
    {
     "data": {
      "text/plain": [
       "'1.3.0'"
      ]
     },
     "execution_count": 1,
     "metadata": {},
     "output_type": "execute_result"
    }
   ],
   "source": [
    "import tensorflow as tf\n",
    "tf.__version__"
   ]
  },
  {
   "cell_type": "code",
   "execution_count": 2,
   "metadata": {},
   "outputs": [
    {
     "name": "stdout",
     "output_type": "stream",
     "text": [
      "Extracting MNIST_data/train-images-idx3-ubyte.gz\n",
      "Extracting MNIST_data/train-labels-idx1-ubyte.gz\n",
      "Extracting MNIST_data/t10k-images-idx3-ubyte.gz\n",
      "Extracting MNIST_data/t10k-labels-idx1-ubyte.gz\n"
     ]
    }
   ],
   "source": [
    "from tensorflow.examples.tutorials.mnist import input_data\n",
    "mnist = input_data.read_data_sets('MNIST_data', one_hot=True)"
   ]
  },
  {
   "cell_type": "code",
   "execution_count": 3,
   "metadata": {},
   "outputs": [],
   "source": [
    "sess = tf.InteractiveSession()"
   ]
  },
  {
   "cell_type": "code",
   "execution_count": 4,
   "metadata": {},
   "outputs": [],
   "source": [
    "x = tf.placeholder(tf.float32, shape=[None, 784])\n",
    "y_ = tf.placeholder(tf.float32, shape=[None, 10])"
   ]
  },
  {
   "cell_type": "code",
   "execution_count": 5,
   "metadata": {},
   "outputs": [],
   "source": [
    "W = tf.Variable(tf.zeros([784, 10], tf.float32))\n",
    "b = tf.Variable(tf.zeros([10], tf.float32))"
   ]
  },
  {
   "cell_type": "code",
   "execution_count": 6,
   "metadata": {},
   "outputs": [
    {
     "name": "stdout",
     "output_type": "stream",
     "text": [
      "WARNING:tensorflow:From /home/salman/tensorflow/local/lib/python2.7/site-packages/tensorflow/python/util/tf_should_use.py:175: initialize_all_variables (from tensorflow.python.ops.variables) is deprecated and will be removed after 2017-03-02.\n",
      "Instructions for updating:\n",
      "Use `tf.global_variables_initializer` instead.\n"
     ]
    }
   ],
   "source": [
    "sess.run(tf.initialize_all_variables())"
   ]
  },
  {
   "cell_type": "code",
   "execution_count": 7,
   "metadata": {},
   "outputs": [
    {
     "data": {
      "text/plain": [
       "<tf.Tensor 'add:0' shape=(?, 10) dtype=float32>"
      ]
     },
     "execution_count": 7,
     "metadata": {},
     "output_type": "execute_result"
    }
   ],
   "source": [
    "tf.matmul(x, W) + b"
   ]
  },
  {
   "cell_type": "code",
   "execution_count": 8,
   "metadata": {},
   "outputs": [],
   "source": [
    "y = tf.nn.softmax(tf.matmul(x, W) + b)"
   ]
  },
  {
   "cell_type": "code",
   "execution_count": 9,
   "metadata": {},
   "outputs": [],
   "source": [
    "cross_entropy = tf.reduce_mean(-tf.reduce_sum(y_ * tf.log(y), reduction_indices=[1]))"
   ]
  },
  {
   "cell_type": "code",
   "execution_count": 10,
   "metadata": {},
   "outputs": [],
   "source": [
    "train_step = tf.train.GradientDescentOptimizer(0.5).minimize(cross_entropy)"
   ]
  },
  {
   "cell_type": "code",
   "execution_count": 11,
   "metadata": {},
   "outputs": [],
   "source": [
    "for i in range(10000):\n",
    "    batch = mnist.train.next_batch(50)\n",
    "    train_step.run(feed_dict={x: batch[0], y_: batch[1]})"
   ]
  },
  {
   "cell_type": "code",
   "execution_count": 12,
   "metadata": {},
   "outputs": [
    {
     "name": "stdout",
     "output_type": "stream",
     "text": [
      "The final accuracy of the simple ANN model is: 91.9500172138 % \n"
     ]
    }
   ],
   "source": [
    "correct_prediction = tf.equal(tf.argmax(y, 1), tf.argmax(y_, 1))\n",
    "accuracy = tf.reduce_mean(tf.cast(correct_prediction, tf.float32))\n",
    "acc = accuracy.eval(feed_dict={x: mnist.test.images, y_: mnist.test.labels}) * 100\n",
    "print(\"The final accuracy of the simple ANN model is: {} % \" .format(acc))"
   ]
  },
  {
   "cell_type": "code",
   "execution_count": 13,
   "metadata": {},
   "outputs": [],
   "source": [
    "sess.close()"
   ]
  },
  {
   "cell_type": "markdown",
   "metadata": {},
   "source": [
    "## MNIST Classification with a CNN"
   ]
  },
  {
   "cell_type": "code",
   "execution_count": 14,
   "metadata": {},
   "outputs": [],
   "source": [
    "sess = tf.InteractiveSession()"
   ]
  },
  {
   "cell_type": "code",
   "execution_count": 15,
   "metadata": {},
   "outputs": [],
   "source": [
    "width = 28\n",
    "height = 28\n",
    "flat = width * height\n",
    "class_output = 10"
   ]
  },
  {
   "cell_type": "code",
   "execution_count": 16,
   "metadata": {},
   "outputs": [],
   "source": [
    "x = tf.placeholder(tf.float32, shape=[None, flat])\n",
    "y_ = tf.placeholder(tf.float32, shape=[None, class_output])"
   ]
  },
  {
   "cell_type": "code",
   "execution_count": 17,
   "metadata": {},
   "outputs": [
    {
     "data": {
      "text/plain": [
       "<tf.Tensor 'Reshape:0' shape=(?, 28, 28, 1) dtype=float32>"
      ]
     },
     "execution_count": 17,
     "metadata": {},
     "output_type": "execute_result"
    }
   ],
   "source": [
    "x_image = tf.reshape(x, [-1, 28, 28, 1])\n",
    "x_image"
   ]
  },
  {
   "cell_type": "markdown",
   "metadata": {},
   "source": [
    "#### Layer 1 (Conv)"
   ]
  },
  {
   "cell_type": "code",
   "execution_count": 18,
   "metadata": {},
   "outputs": [],
   "source": [
    "W_conv1 = tf.Variable(tf.truncated_normal([5, 5, 1, 32], stddev=0.1))\n",
    "b_conv1 = tf.Variable(tf.constant(0.1, shape=[32]))"
   ]
  },
  {
   "cell_type": "code",
   "execution_count": 19,
   "metadata": {},
   "outputs": [],
   "source": [
    "convolve1 = tf.nn.conv2d(x_image, W_conv1, strides=[1,1,1,1], padding='SAME') + b_conv1"
   ]
  },
  {
   "cell_type": "code",
   "execution_count": 20,
   "metadata": {},
   "outputs": [],
   "source": [
    "h_conv1 = tf.nn.relu(convolve1)"
   ]
  },
  {
   "cell_type": "code",
   "execution_count": 21,
   "metadata": {},
   "outputs": [
    {
     "data": {
      "text/plain": [
       "<tf.Tensor 'MaxPool:0' shape=(?, 14, 14, 32) dtype=float32>"
      ]
     },
     "execution_count": 21,
     "metadata": {},
     "output_type": "execute_result"
    }
   ],
   "source": [
    "conv1 = tf.nn.max_pool(h_conv1, ksize=[1,2,2,1], strides=[1,2,2,1], padding='SAME')\n",
    "conv1"
   ]
  },
  {
   "cell_type": "markdown",
   "metadata": {},
   "source": [
    "#### Layer 2 (Conv)"
   ]
  },
  {
   "cell_type": "code",
   "execution_count": 22,
   "metadata": {},
   "outputs": [
    {
     "data": {
      "text/plain": [
       "<tf.Tensor 'MaxPool_1:0' shape=(?, 7, 7, 64) dtype=float32>"
      ]
     },
     "execution_count": 22,
     "metadata": {},
     "output_type": "execute_result"
    }
   ],
   "source": [
    "W_conv2 = tf.Variable(tf.truncated_normal([5,5,32,64], stddev=0.1))\n",
    "b_conv2 = tf.Variable(tf.constant(0.1, shape=[64]))\n",
    "\n",
    "convolve2 = tf.nn.conv2d(conv1, W_conv2, strides=[1,1,1,1], padding='SAME')\n",
    "\n",
    "h_conv2 = tf.nn.relu(convolve2)\n",
    "\n",
    "conv2 = tf.nn.max_pool(h_conv2, ksize=[1,2,2,1], strides=[1,2,2,1], padding='SAME')\n",
    "conv2"
   ]
  },
  {
   "cell_type": "markdown",
   "metadata": {},
   "source": [
    "#### Layer 3 (FC)"
   ]
  },
  {
   "cell_type": "code",
   "execution_count": 23,
   "metadata": {},
   "outputs": [],
   "source": [
    "layer2_matrix = tf.reshape(conv2, [-1, 7*7*64])"
   ]
  },
  {
   "cell_type": "code",
   "execution_count": 24,
   "metadata": {},
   "outputs": [
    {
     "data": {
      "text/plain": [
       "<tf.Tensor 'Relu_2:0' shape=(?, 1024) dtype=float32>"
      ]
     },
     "execution_count": 24,
     "metadata": {},
     "output_type": "execute_result"
    }
   ],
   "source": [
    "W_fc1 = tf.Variable(tf.truncated_normal([7*7*64, 1024], stddev = 0.1))\n",
    "b_fc1 = tf.Variable(tf.constant(0.1, shape=[1024]))\n",
    "\n",
    "fcl = tf.matmul(layer2_matrix, W_fc1) + b_fc1\n",
    "\n",
    "h_fc1 = tf.nn.relu(fcl)\n",
    "h_fc1"
   ]
  },
  {
   "cell_type": "markdown",
   "metadata": {},
   "source": [
    "#### Dropout"
   ]
  },
  {
   "cell_type": "code",
   "execution_count": 25,
   "metadata": {},
   "outputs": [
    {
     "data": {
      "text/plain": [
       "<tf.Tensor 'dropout/mul:0' shape=(?, 1024) dtype=float32>"
      ]
     },
     "execution_count": 25,
     "metadata": {},
     "output_type": "execute_result"
    }
   ],
   "source": [
    "keep_prob = tf.placeholder(tf.float32)\n",
    "layer_drop = tf.nn.dropout(h_fc1, keep_prob)\n",
    "layer_drop"
   ]
  },
  {
   "cell_type": "markdown",
   "metadata": {},
   "source": [
    "#### Softmax Layer"
   ]
  },
  {
   "cell_type": "code",
   "execution_count": 26,
   "metadata": {},
   "outputs": [
    {
     "data": {
      "text/plain": [
       "<tf.Tensor 'Softmax_1:0' shape=(?, 10) dtype=float32>"
      ]
     },
     "execution_count": 26,
     "metadata": {},
     "output_type": "execute_result"
    }
   ],
   "source": [
    "W_fc2 = tf.Variable(tf.truncated_normal([1024, 10], stddev=0.1))\n",
    "b_fc2 = tf.Variable(tf.constant(0.1, shape=[10]))\n",
    "\n",
    "fc = tf.matmul(layer_drop, W_fc2) + b_fc2\n",
    "\n",
    "y_CNN = tf.nn.softmax(fc)\n",
    "y_CNN"
   ]
  },
  {
   "cell_type": "code",
   "execution_count": 27,
   "metadata": {},
   "outputs": [],
   "source": [
    "# Loss Function\n",
    "cross_entropy = tf.reduce_mean(-tf.reduce_sum(y_ * tf.log(y_CNN), reduction_indices=[1]))\n",
    "\n",
    "# Optimizer\n",
    "train_step = tf.train.AdamOptimizer(1e-4).minimize(cross_entropy)\n",
    "\n",
    "correct_prediction = tf.equal(tf.argmax(y_CNN, 1), tf.argmax(y_, 1))\n",
    "\n",
    "accuracy = tf.reduce_mean(tf.cast(correct_prediction, tf.float32))\n",
    "\n",
    "sess.run(tf.global_variables_initializer())"
   ]
  },
  {
   "cell_type": "code",
   "execution_count": 28,
   "metadata": {},
   "outputs": [
    {
     "name": "stdout",
     "output_type": "stream",
     "text": [
      "Step: 0  -  Accuracy: 0.2\n",
      "Step: 100  -  Accuracy: 0.9\n",
      "Step: 200  -  Accuracy: 0.9\n",
      "Step: 300  -  Accuracy: 0.94\n",
      "Step: 400  -  Accuracy: 0.98\n",
      "Step: 500  -  Accuracy: 0.92\n",
      "Step: 600  -  Accuracy: 0.98\n",
      "Step: 700  -  Accuracy: 0.98\n",
      "Step: 800  -  Accuracy: 0.96\n",
      "Step: 900  -  Accuracy: 0.94\n",
      "Step: 1000  -  Accuracy: 0.98\n",
      "Step: 1100  -  Accuracy: 0.96\n",
      "Step: 1200  -  Accuracy: 0.98\n",
      "Step: 1300  -  Accuracy: 0.98\n",
      "Step: 1400  -  Accuracy: 0.98\n",
      "Step: 1500  -  Accuracy: 0.96\n",
      "Step: 1600  -  Accuracy: 1\n",
      "Step: 1700  -  Accuracy: 1\n",
      "Step: 1800  -  Accuracy: 0.92\n",
      "Step: 1900  -  Accuracy: 0.94\n",
      "Step: 2000  -  Accuracy: 0.98\n",
      "Step: 2100  -  Accuracy: 0.96\n",
      "Step: 2200  -  Accuracy: 1\n",
      "Step: 2300  -  Accuracy: 0.98\n",
      "Step: 2400  -  Accuracy: 1\n",
      "Step: 2500  -  Accuracy: 1\n",
      "Step: 2600  -  Accuracy: 1\n",
      "Step: 2700  -  Accuracy: 1\n",
      "Step: 2800  -  Accuracy: 0.96\n",
      "Step: 2900  -  Accuracy: 0.98\n",
      "Step: 3000  -  Accuracy: 1\n",
      "Step: 3100  -  Accuracy: 1\n",
      "Step: 3200  -  Accuracy: 1\n",
      "Step: 3300  -  Accuracy: 0.96\n",
      "Step: 3400  -  Accuracy: 1\n",
      "Step: 3500  -  Accuracy: 1\n",
      "Step: 3600  -  Accuracy: 0.98\n",
      "Step: 3700  -  Accuracy: 1\n",
      "Step: 3800  -  Accuracy: 1\n",
      "Step: 3900  -  Accuracy: 0.94\n",
      "Step: 4000  -  Accuracy: 1\n",
      "Step: 4100  -  Accuracy: 1\n",
      "Step: 4200  -  Accuracy: 0.96\n",
      "Step: 4300  -  Accuracy: 1\n",
      "Step: 4400  -  Accuracy: 1\n",
      "Step: 4500  -  Accuracy: 1\n",
      "Step: 4600  -  Accuracy: 1\n",
      "Step: 4700  -  Accuracy: 0.98\n",
      "Step: 4800  -  Accuracy: 0.94\n",
      "Step: 4900  -  Accuracy: 1\n",
      "Step: 5000  -  Accuracy: 1\n",
      "Step: 5100  -  Accuracy: 0.96\n",
      "Step: 5200  -  Accuracy: 0.96\n",
      "Step: 5300  -  Accuracy: 0.98\n",
      "Step: 5400  -  Accuracy: 1\n",
      "Step: 5500  -  Accuracy: 0.98\n",
      "Step: 5600  -  Accuracy: 1\n",
      "Step: 5700  -  Accuracy: 0.98\n",
      "Step: 5800  -  Accuracy: 1\n",
      "Step: 5900  -  Accuracy: 1\n",
      "Step: 6000  -  Accuracy: 0.98\n",
      "Step: 6100  -  Accuracy: 1\n",
      "Step: 6200  -  Accuracy: 1\n",
      "Step: 6300  -  Accuracy: 1\n",
      "Step: 6400  -  Accuracy: 1\n",
      "Step: 6500  -  Accuracy: 1\n",
      "Step: 6600  -  Accuracy: 1\n",
      "Step: 6700  -  Accuracy: 1\n",
      "Step: 6800  -  Accuracy: 1\n",
      "Step: 6900  -  Accuracy: 1\n",
      "Step: 7000  -  Accuracy: 1\n",
      "Step: 7100  -  Accuracy: 1\n",
      "Step: 7200  -  Accuracy: 1\n",
      "Step: 7300  -  Accuracy: 1\n",
      "Step: 7400  -  Accuracy: 1\n",
      "Step: 7500  -  Accuracy: 1\n",
      "Step: 7600  -  Accuracy: 1\n",
      "Step: 7700  -  Accuracy: 1\n",
      "Step: 7800  -  Accuracy: 0.96\n",
      "Step: 7900  -  Accuracy: 0.98\n",
      "Step: 8000  -  Accuracy: 1\n",
      "Step: 8100  -  Accuracy: 1\n",
      "Step: 8200  -  Accuracy: 0.98\n",
      "Step: 8300  -  Accuracy: 1\n",
      "Step: 8400  -  Accuracy: 1\n",
      "Step: 8500  -  Accuracy: 1\n",
      "Step: 8600  -  Accuracy: 1\n",
      "Step: 8700  -  Accuracy: 1\n",
      "Step: 8800  -  Accuracy: 1\n",
      "Step: 8900  -  Accuracy: 1\n",
      "Step: 9000  -  Accuracy: 1\n",
      "Step: 9100  -  Accuracy: 0.96\n",
      "Step: 9200  -  Accuracy: 1\n",
      "Step: 9300  -  Accuracy: 1\n",
      "Step: 9400  -  Accuracy: 1\n",
      "Step: 9500  -  Accuracy: 1\n",
      "Step: 9600  -  Accuracy: 0.98\n",
      "Step: 9700  -  Accuracy: 1\n",
      "Step: 9800  -  Accuracy: 1\n",
      "Step: 9900  -  Accuracy: 1\n",
      "Step: 10000  -  Accuracy: 1\n",
      "Step: 10100  -  Accuracy: 1\n",
      "Step: 10200  -  Accuracy: 1\n",
      "Step: 10300  -  Accuracy: 1\n",
      "Step: 10400  -  Accuracy: 1\n",
      "Step: 10500  -  Accuracy: 1\n",
      "Step: 10600  -  Accuracy: 1\n",
      "Step: 10700  -  Accuracy: 1\n",
      "Step: 10800  -  Accuracy: 1\n",
      "Step: 10900  -  Accuracy: 1\n",
      "Step: 11000  -  Accuracy: 0.98\n",
      "Step: 11100  -  Accuracy: 1\n",
      "Step: 11200  -  Accuracy: 1\n",
      "Step: 11300  -  Accuracy: 1\n",
      "Step: 11400  -  Accuracy: 1\n",
      "Step: 11500  -  Accuracy: 0.98\n",
      "Step: 11600  -  Accuracy: 1\n",
      "Step: 11700  -  Accuracy: 0.98\n",
      "Step: 11800  -  Accuracy: 1\n",
      "Step: 11900  -  Accuracy: 1\n",
      "Step: 12000  -  Accuracy: 1\n",
      "Step: 12100  -  Accuracy: 1\n",
      "Step: 12200  -  Accuracy: 1\n",
      "Step: 12300  -  Accuracy: 1\n",
      "Step: 12400  -  Accuracy: 1\n",
      "Step: 12500  -  Accuracy: 1\n",
      "Step: 12600  -  Accuracy: 1\n",
      "Step: 12700  -  Accuracy: 1\n",
      "Step: 12800  -  Accuracy: 1\n",
      "Step: 12900  -  Accuracy: 1\n",
      "Step: 13000  -  Accuracy: 1\n",
      "Step: 13100  -  Accuracy: 1\n",
      "Step: 13200  -  Accuracy: 1\n",
      "Step: 13300  -  Accuracy: 1\n",
      "Step: 13400  -  Accuracy: 1\n",
      "Step: 13500  -  Accuracy: 1\n",
      "Step: 13600  -  Accuracy: 1\n",
      "Step: 13700  -  Accuracy: 1\n",
      "Step: 13800  -  Accuracy: 1\n",
      "Step: 13900  -  Accuracy: 1\n",
      "Step: 14000  -  Accuracy: 1\n",
      "Step: 14100  -  Accuracy: 1\n",
      "Step: 14200  -  Accuracy: 1\n",
      "Step: 14300  -  Accuracy: 1\n",
      "Step: 14400  -  Accuracy: 1\n",
      "Step: 14500  -  Accuracy: 1\n",
      "Step: 14600  -  Accuracy: 1\n",
      "Step: 14700  -  Accuracy: 1\n",
      "Step: 14800  -  Accuracy: 1\n",
      "Step: 14900  -  Accuracy: 1\n",
      "Step: 15000  -  Accuracy: 1\n",
      "Step: 15100  -  Accuracy: 1\n",
      "Step: 15200  -  Accuracy: 1\n",
      "Step: 15300  -  Accuracy: 1\n",
      "Step: 15400  -  Accuracy: 1\n",
      "Step: 15500  -  Accuracy: 1\n",
      "Step: 15600  -  Accuracy: 1\n",
      "Step: 15700  -  Accuracy: 1\n",
      "Step: 15800  -  Accuracy: 1\n",
      "Step: 15900  -  Accuracy: 1\n",
      "Step: 16000  -  Accuracy: 1\n",
      "Step: 16100  -  Accuracy: 1\n",
      "Step: 16200  -  Accuracy: 0.98\n",
      "Step: 16300  -  Accuracy: 0.98\n",
      "Step: 16400  -  Accuracy: 1\n",
      "Step: 16500  -  Accuracy: 1\n",
      "Step: 16600  -  Accuracy: 1\n",
      "Step: 16700  -  Accuracy: 1\n",
      "Step: 16800  -  Accuracy: 1\n",
      "Step: 16900  -  Accuracy: 1\n",
      "Step: 17000  -  Accuracy: 1\n",
      "Step: 17100  -  Accuracy: 1\n",
      "Step: 17200  -  Accuracy: 1\n",
      "Step: 17300  -  Accuracy: 1\n",
      "Step: 17400  -  Accuracy: 1\n",
      "Step: 17500  -  Accuracy: 1\n",
      "Step: 17600  -  Accuracy: 1\n",
      "Step: 17700  -  Accuracy: 1\n",
      "Step: 17800  -  Accuracy: 1\n",
      "Step: 17900  -  Accuracy: 1\n",
      "Step: 18000  -  Accuracy: 1\n",
      "Step: 18100  -  Accuracy: 1\n",
      "Step: 18200  -  Accuracy: 1\n",
      "Step: 18300  -  Accuracy: 1\n",
      "Step: 18400  -  Accuracy: 1\n",
      "Step: 18500  -  Accuracy: 1\n",
      "Step: 18600  -  Accuracy: 0.98\n",
      "Step: 18700  -  Accuracy: 1\n",
      "Step: 18800  -  Accuracy: 1\n",
      "Step: 18900  -  Accuracy: 1\n",
      "Step: 19000  -  Accuracy: 1\n",
      "Step: 19100  -  Accuracy: 1\n",
      "Step: 19200  -  Accuracy: 1\n",
      "Step: 19300  -  Accuracy: 1\n",
      "Step: 19400  -  Accuracy: 1\n",
      "Step: 19500  -  Accuracy: 1\n",
      "Step: 19600  -  Accuracy: 1\n",
      "Step: 19700  -  Accuracy: 1\n",
      "Step: 19800  -  Accuracy: 1\n",
      "Step: 19900  -  Accuracy: 1\n"
     ]
    }
   ],
   "source": [
    "for i in range(20000):\n",
    "    batch = mnist.train.next_batch(50)\n",
    "    if i % 100 == 0:\n",
    "        train_accuracy = accuracy.eval(feed_dict={x: batch[0], y_: batch[1], keep_prob: 1.0})\n",
    "        print 'Step: %d  -  Accuracy: %g' % (i, train_accuracy)\n",
    "    train_step.run(feed_dict={x:batch[0], y_:batch[1], keep_prob:0.5})"
   ]
  },
  {
   "cell_type": "code",
   "execution_count": 31,
   "metadata": {},
   "outputs": [
    {
     "name": "stdout",
     "output_type": "stream",
     "text": [
      "Test Accuracy: 0.9912\n"
     ]
    }
   ],
   "source": [
    "print 'Test Accuracy: %g' %accuracy.eval(feed_dict={x: mnist.test.images, y_: mnist.test.labels, keep_prob: 1.0})"
   ]
  },
  {
   "cell_type": "markdown",
   "metadata": {},
   "source": [
    "### Visualization"
   ]
  },
  {
   "cell_type": "code",
   "execution_count": 32,
   "metadata": {},
   "outputs": [],
   "source": [
    "kernels = sess.run(tf.reshape(tf.transpose(W_conv1, perm=[2,3,0,1]),[32,-1]))"
   ]
  },
  {
   "cell_type": "code",
   "execution_count": 33,
   "metadata": {},
   "outputs": [
    {
     "name": "stdout",
     "output_type": "stream",
     "text": [
      "--2017-11-02 23:10:28--  http://deeplearning.net/tutorial/code/utils.py\n",
      "Resolving deeplearning.net (deeplearning.net)... 132.204.26.28\n",
      "Connecting to deeplearning.net (deeplearning.net)|132.204.26.28|:80... connected.\n",
      "HTTP request sent, awaiting response... 200 OK\n",
      "Length: 5097 (5.0K) [text/plain]\n",
      "Saving to: ‘utils1.py’\n",
      "\n",
      "utils1.py           100%[===================>]   4.98K  --.-KB/s    in 0s      \n",
      "\n",
      "2017-11-02 23:10:30 (376 MB/s) - ‘utils1.py’ saved [5097/5097]\n",
      "\n"
     ]
    }
   ],
   "source": [
    "!wget --output-document utils1.py http://deeplearning.net/tutorial/code/utils.py"
   ]
  },
  {
   "cell_type": "code",
   "execution_count": 39,
   "metadata": {},
   "outputs": [],
   "source": [
    "from utils1 import tile_raster_images\n",
    "import matplotlib.pyplot as plt\n",
    "from PIL import Image\n",
    "%matplotlib inline\n",
    "import numpy as np"
   ]
  },
  {
   "cell_type": "code",
   "execution_count": 37,
   "metadata": {},
   "outputs": [
    {
     "data": {
      "image/png": "[encoded data removed]",
      "text/plain": [
       "<matplotlib.figure.Figure at 0x7f12a9bd2790>"
      ]
     },
     "metadata": {},
     "output_type": "display_data"
    }
   ],
   "source": [
    "image = Image.fromarray(tile_raster_images(kernels, img_shape=(5, 5), tile_shape=(4, 8), tile_spacing=(1, 1)))\n",
    "plt.rcParams['figure.figsize'] = (18.0, 18.0)\n",
    "imgplot = plt.imshow(image)\n",
    "imgplot.set_cmap('gray')"
   ]
  },
  {
   "cell_type": "code",
   "execution_count": 40,
   "metadata": {},
   "outputs": [
    {
     "data": {
      "text/plain": [
       "<matplotlib.image.AxesImage at 0x7f12a00b5bd0>"
      ]
     },
     "execution_count": 40,
     "metadata": {},
     "output_type": "execute_result"
    },
    {
     "data": {
      "image/png": "[encoded data removed]",
      "text/plain": [
       "<matplotlib.figure.Figure at 0x7f12937cfdd0>"
      ]
     },
     "metadata": {},
     "output_type": "display_data"
    }
   ],
   "source": [
    "plt.rcParams['figure.figsize'] = (5.0, 5.0)\n",
    "sampleimage = mnist.test.images[1]\n",
    "plt.imshow(np.reshape(sampleimage,[28,28]), cmap=\"gray\")"
   ]
  },
  {
   "cell_type": "code",
   "execution_count": 41,
   "metadata": {},
   "outputs": [
    {
     "data": {
      "image/png": "[encoded data removed]",
      "text/plain": [
       "<matplotlib.figure.Figure at 0x7f12980a0d50>"
      ]
     },
     "metadata": {},
     "output_type": "display_data"
    }
   ],
   "source": [
    "ActivatedUnits = sess.run(convolve1, feed_dict={x: np.reshape(sampleimage, [1,784],order='F'), keep_prob:1.0})\n",
    "filters = ActivatedUnits.shape[3]\n",
    "plt.figure(1, figsize=(20,20))\n",
    "n_columns = 8\n",
    "n_rows = np.math.ceil(filters / n_columns) + 1\n",
    "for i in range(filters):\n",
    "    plt.subplot(n_rows, n_columns, i+1)\n",
    "    plt.title('Filter ' + str(i))\n",
    "    plt.imshow(ActivatedUnits[0,:,:,i], interpolation=\"nearest\", cmap=\"gray\")"
   ]
  },
  {
   "cell_type": "code",
   "execution_count": 42,
   "metadata": {},
   "outputs": [],
   "source": [
    "sess.close()"
   ]
  },
  {
   "cell_type": "code",
   "execution_count": null,
   "metadata": {},
   "outputs": [],
   "source": []
  }
 ],
 "metadata": {
  "kernelspec": {
   "display_name": "Python 2",
   "language": "python",
   "name": "python2"
  },
  "language_info": {
   "codemirror_mode": {
    "name": "ipython",
    "version": 2
   },
   "file_extension": ".py",
   "mimetype": "text/x-python",
   "name": "python",
   "nbconvert_exporter": "python",
   "pygments_lexer": "ipython2",
   "version": "2.7.12"
  }
 },
 "nbformat": 4,
 "nbformat_minor": 2
}
